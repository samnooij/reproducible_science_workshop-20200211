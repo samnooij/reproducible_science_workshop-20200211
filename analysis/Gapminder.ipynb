{
 "cells": [
  {
   "cell_type": "markdown",
   "metadata": {},
   "source": [
    "# Loading data"
   ]
  },
  {
   "cell_type": "code",
   "execution_count": 2,
   "metadata": {},
   "outputs": [],
   "source": [
    "import pandas as pd\n",
    "from pathlib import Path #this function helps use paths in a platform-independent way"
   ]
  },
  {
   "cell_type": "code",
   "execution_count": 3,
   "metadata": {},
   "outputs": [
    {
     "data": {
      "text/plain": [
       "'1.0.1'"
      ]
     },
     "execution_count": 3,
     "metadata": {},
     "output_type": "execute_result"
    }
   ],
   "source": [
    "pd.__version__"
   ]
  },
  {
   "cell_type": "code",
   "execution_count": 4,
   "metadata": {},
   "outputs": [],
   "source": [
    "data_path = Path(\"./data/\")"
   ]
  },
  {
   "cell_type": "code",
   "execution_count": 5,
   "metadata": {},
   "outputs": [
    {
     "data": {
      "text/plain": [
       "[WindowsPath('data/.ipynb_checkpoints'),\n",
       " WindowsPath('data/income_per_person_gdppercapita_ppp_inflation_adjusted.csv'),\n",
       " WindowsPath('data/life_expectancy_years.csv'),\n",
       " WindowsPath('data/population_total.csv')]"
      ]
     },
     "execution_count": 5,
     "metadata": {},
     "output_type": "execute_result"
    }
   ],
   "source": [
    "list(data_path.glob('*'))"
   ]
  },
  {
   "cell_type": "code",
   "execution_count": 6,
   "metadata": {},
   "outputs": [],
   "source": [
    "population = pd.read_csv(data_path / \"population_total.csv\")"
   ]
  },
  {
   "cell_type": "code",
   "execution_count": 7,
   "metadata": {},
   "outputs": [
    {
     "data": {
      "text/plain": [
       "0      Afghanistan\n",
       "1          Albania\n",
       "2          Algeria\n",
       "3          Andorra\n",
       "4           Angola\n",
       "          ...     \n",
       "190      Venezuela\n",
       "191        Vietnam\n",
       "192          Yemen\n",
       "193         Zambia\n",
       "194       Zimbabwe\n",
       "Name: country, Length: 195, dtype: object"
      ]
     },
     "execution_count": 7,
     "metadata": {},
     "output_type": "execute_result"
    }
   ],
   "source": [
    "population[\"country\"]"
   ]
  },
  {
   "cell_type": "code",
   "execution_count": 8,
   "metadata": {},
   "outputs": [
    {
     "data": {
      "text/plain": [
       "0       72100000\n",
       "1        1860000\n",
       "2       62800000\n",
       "3          64600\n",
       "4      152000000\n",
       "         ...    \n",
       "190     42700000\n",
       "191    110000000\n",
       "192     54800000\n",
       "193     82400000\n",
       "194     39800000\n",
       "Name: 2089, Length: 195, dtype: int64"
      ]
     },
     "execution_count": 8,
     "metadata": {},
     "output_type": "execute_result"
    }
   ],
   "source": [
    "population[\"2089\"]"
   ]
  },
  {
   "cell_type": "code",
   "execution_count": 9,
   "metadata": {},
   "outputs": [],
   "source": [
    "population = pd.read_csv(data_path / \"population_total.csv\", index_col=\"country\")\n",
    "life_expectancy = pd.read_csv(data_path / \"life_expectancy_years.csv\", index_col=\"country\")\n",
    "income = pd.read_csv(data_path / \"income_per_person_gdppercapita_ppp_inflation_adjusted.csv\", index_col=\"country\")"
   ]
  },
  {
   "cell_type": "code",
   "execution_count": 10,
   "metadata": {},
   "outputs": [
    {
     "data": {
      "text/html": [
       "<div>\n",
       "<style scoped>\n",
       "    .dataframe tbody tr th:only-of-type {\n",
       "        vertical-align: middle;\n",
       "    }\n",
       "\n",
       "    .dataframe tbody tr th {\n",
       "        vertical-align: top;\n",
       "    }\n",
       "\n",
       "    .dataframe thead th {\n",
       "        text-align: right;\n",
       "    }\n",
       "</style>\n",
       "<table border=\"1\" class=\"dataframe\">\n",
       "  <thead>\n",
       "    <tr style=\"text-align: right;\">\n",
       "      <th></th>\n",
       "      <th>1800</th>\n",
       "      <th>1801</th>\n",
       "      <th>1802</th>\n",
       "      <th>1803</th>\n",
       "      <th>1804</th>\n",
       "      <th>1805</th>\n",
       "      <th>1806</th>\n",
       "      <th>1807</th>\n",
       "      <th>1808</th>\n",
       "      <th>1809</th>\n",
       "      <th>...</th>\n",
       "      <th>2091</th>\n",
       "      <th>2092</th>\n",
       "      <th>2093</th>\n",
       "      <th>2094</th>\n",
       "      <th>2095</th>\n",
       "      <th>2096</th>\n",
       "      <th>2097</th>\n",
       "      <th>2098</th>\n",
       "      <th>2099</th>\n",
       "      <th>2100</th>\n",
       "    </tr>\n",
       "    <tr>\n",
       "      <th>country</th>\n",
       "      <th></th>\n",
       "      <th></th>\n",
       "      <th></th>\n",
       "      <th></th>\n",
       "      <th></th>\n",
       "      <th></th>\n",
       "      <th></th>\n",
       "      <th></th>\n",
       "      <th></th>\n",
       "      <th></th>\n",
       "      <th></th>\n",
       "      <th></th>\n",
       "      <th></th>\n",
       "      <th></th>\n",
       "      <th></th>\n",
       "      <th></th>\n",
       "      <th></th>\n",
       "      <th></th>\n",
       "      <th></th>\n",
       "      <th></th>\n",
       "      <th></th>\n",
       "    </tr>\n",
       "  </thead>\n",
       "  <tbody>\n",
       "    <tr>\n",
       "      <th>Afghanistan</th>\n",
       "      <td>3280000</td>\n",
       "      <td>3280000</td>\n",
       "      <td>3280000</td>\n",
       "      <td>3280000</td>\n",
       "      <td>3280000</td>\n",
       "      <td>3280000</td>\n",
       "      <td>3280000</td>\n",
       "      <td>3280000</td>\n",
       "      <td>3280000</td>\n",
       "      <td>3280000</td>\n",
       "      <td>...</td>\n",
       "      <td>71900000</td>\n",
       "      <td>71800000</td>\n",
       "      <td>71600000</td>\n",
       "      <td>71500000</td>\n",
       "      <td>71300000</td>\n",
       "      <td>71200000</td>\n",
       "      <td>71000000</td>\n",
       "      <td>70800000</td>\n",
       "      <td>70600000</td>\n",
       "      <td>70400000</td>\n",
       "    </tr>\n",
       "    <tr>\n",
       "      <th>Albania</th>\n",
       "      <td>410000</td>\n",
       "      <td>412000</td>\n",
       "      <td>413000</td>\n",
       "      <td>414000</td>\n",
       "      <td>416000</td>\n",
       "      <td>417000</td>\n",
       "      <td>418000</td>\n",
       "      <td>420000</td>\n",
       "      <td>421000</td>\n",
       "      <td>422000</td>\n",
       "      <td>...</td>\n",
       "      <td>1820000</td>\n",
       "      <td>1800000</td>\n",
       "      <td>1780000</td>\n",
       "      <td>1760000</td>\n",
       "      <td>1740000</td>\n",
       "      <td>1720000</td>\n",
       "      <td>1710000</td>\n",
       "      <td>1690000</td>\n",
       "      <td>1670000</td>\n",
       "      <td>1660000</td>\n",
       "    </tr>\n",
       "    <tr>\n",
       "      <th>Algeria</th>\n",
       "      <td>2500000</td>\n",
       "      <td>2510000</td>\n",
       "      <td>2520000</td>\n",
       "      <td>2530000</td>\n",
       "      <td>2540000</td>\n",
       "      <td>2550000</td>\n",
       "      <td>2560000</td>\n",
       "      <td>2570000</td>\n",
       "      <td>2580000</td>\n",
       "      <td>2590000</td>\n",
       "      <td>...</td>\n",
       "      <td>62800000</td>\n",
       "      <td>62800000</td>\n",
       "      <td>62800000</td>\n",
       "      <td>62800000</td>\n",
       "      <td>62800000</td>\n",
       "      <td>62800000</td>\n",
       "      <td>62700000</td>\n",
       "      <td>62700000</td>\n",
       "      <td>62600000</td>\n",
       "      <td>62600000</td>\n",
       "    </tr>\n",
       "    <tr>\n",
       "      <th>Andorra</th>\n",
       "      <td>2650</td>\n",
       "      <td>2650</td>\n",
       "      <td>2650</td>\n",
       "      <td>2650</td>\n",
       "      <td>2650</td>\n",
       "      <td>2650</td>\n",
       "      <td>2650</td>\n",
       "      <td>2650</td>\n",
       "      <td>2650</td>\n",
       "      <td>2650</td>\n",
       "      <td>...</td>\n",
       "      <td>64300</td>\n",
       "      <td>64200</td>\n",
       "      <td>64100</td>\n",
       "      <td>63900</td>\n",
       "      <td>63800</td>\n",
       "      <td>63700</td>\n",
       "      <td>63500</td>\n",
       "      <td>63400</td>\n",
       "      <td>63300</td>\n",
       "      <td>63100</td>\n",
       "    </tr>\n",
       "    <tr>\n",
       "      <th>Angola</th>\n",
       "      <td>1570000</td>\n",
       "      <td>1570000</td>\n",
       "      <td>1570000</td>\n",
       "      <td>1570000</td>\n",
       "      <td>1570000</td>\n",
       "      <td>1570000</td>\n",
       "      <td>1570000</td>\n",
       "      <td>1570000</td>\n",
       "      <td>1570000</td>\n",
       "      <td>1570000</td>\n",
       "      <td>...</td>\n",
       "      <td>156000000</td>\n",
       "      <td>158000000</td>\n",
       "      <td>160000000</td>\n",
       "      <td>162000000</td>\n",
       "      <td>164000000</td>\n",
       "      <td>166000000</td>\n",
       "      <td>167000000</td>\n",
       "      <td>169000000</td>\n",
       "      <td>171000000</td>\n",
       "      <td>173000000</td>\n",
       "    </tr>\n",
       "  </tbody>\n",
       "</table>\n",
       "<p>5 rows × 301 columns</p>\n",
       "</div>"
      ],
      "text/plain": [
       "                1800     1801     1802     1803     1804     1805     1806  \\\n",
       "country                                                                      \n",
       "Afghanistan  3280000  3280000  3280000  3280000  3280000  3280000  3280000   \n",
       "Albania       410000   412000   413000   414000   416000   417000   418000   \n",
       "Algeria      2500000  2510000  2520000  2530000  2540000  2550000  2560000   \n",
       "Andorra         2650     2650     2650     2650     2650     2650     2650   \n",
       "Angola       1570000  1570000  1570000  1570000  1570000  1570000  1570000   \n",
       "\n",
       "                1807     1808     1809  ...       2091       2092       2093  \\\n",
       "country                                 ...                                    \n",
       "Afghanistan  3280000  3280000  3280000  ...   71900000   71800000   71600000   \n",
       "Albania       420000   421000   422000  ...    1820000    1800000    1780000   \n",
       "Algeria      2570000  2580000  2590000  ...   62800000   62800000   62800000   \n",
       "Andorra         2650     2650     2650  ...      64300      64200      64100   \n",
       "Angola       1570000  1570000  1570000  ...  156000000  158000000  160000000   \n",
       "\n",
       "                  2094       2095       2096       2097       2098       2099  \\\n",
       "country                                                                         \n",
       "Afghanistan   71500000   71300000   71200000   71000000   70800000   70600000   \n",
       "Albania        1760000    1740000    1720000    1710000    1690000    1670000   \n",
       "Algeria       62800000   62800000   62800000   62700000   62700000   62600000   \n",
       "Andorra          63900      63800      63700      63500      63400      63300   \n",
       "Angola       162000000  164000000  166000000  167000000  169000000  171000000   \n",
       "\n",
       "                  2100  \n",
       "country                 \n",
       "Afghanistan   70400000  \n",
       "Albania        1660000  \n",
       "Algeria       62600000  \n",
       "Andorra          63100  \n",
       "Angola       173000000  \n",
       "\n",
       "[5 rows x 301 columns]"
      ]
     },
     "execution_count": 10,
     "metadata": {},
     "output_type": "execute_result"
    }
   ],
   "source": [
    "population.head()"
   ]
  },
  {
   "cell_type": "code",
   "execution_count": 11,
   "metadata": {},
   "outputs": [
    {
     "data": {
      "text/plain": [
       "Index(['Afghanistan', 'Albania', 'Algeria', 'Andorra', 'Angola',\n",
       "       'Antigua and Barbuda', 'Argentina', 'Armenia', 'Australia', 'Austria',\n",
       "       ...\n",
       "       'United Kingdom', 'United States', 'Uruguay', 'Uzbekistan', 'Vanuatu',\n",
       "       'Venezuela', 'Vietnam', 'Yemen', 'Zambia', 'Zimbabwe'],\n",
       "      dtype='object', name='country', length=195)"
      ]
     },
     "execution_count": 11,
     "metadata": {},
     "output_type": "execute_result"
    }
   ],
   "source": [
    "population.index"
   ]
  },
  {
   "cell_type": "code",
   "execution_count": 12,
   "metadata": {},
   "outputs": [
    {
     "data": {
      "text/html": [
       "<div>\n",
       "<style scoped>\n",
       "    .dataframe tbody tr th:only-of-type {\n",
       "        vertical-align: middle;\n",
       "    }\n",
       "\n",
       "    .dataframe tbody tr th {\n",
       "        vertical-align: top;\n",
       "    }\n",
       "\n",
       "    .dataframe thead th {\n",
       "        text-align: right;\n",
       "    }\n",
       "</style>\n",
       "<table border=\"1\" class=\"dataframe\">\n",
       "  <thead>\n",
       "    <tr style=\"text-align: right;\">\n",
       "      <th>country</th>\n",
       "      <th>Afghanistan</th>\n",
       "      <th>Albania</th>\n",
       "      <th>Algeria</th>\n",
       "      <th>Andorra</th>\n",
       "      <th>Angola</th>\n",
       "      <th>Antigua and Barbuda</th>\n",
       "      <th>Argentina</th>\n",
       "      <th>Armenia</th>\n",
       "      <th>Australia</th>\n",
       "      <th>Austria</th>\n",
       "      <th>...</th>\n",
       "      <th>United Kingdom</th>\n",
       "      <th>United States</th>\n",
       "      <th>Uruguay</th>\n",
       "      <th>Uzbekistan</th>\n",
       "      <th>Vanuatu</th>\n",
       "      <th>Venezuela</th>\n",
       "      <th>Vietnam</th>\n",
       "      <th>Yemen</th>\n",
       "      <th>Zambia</th>\n",
       "      <th>Zimbabwe</th>\n",
       "    </tr>\n",
       "  </thead>\n",
       "  <tbody>\n",
       "    <tr>\n",
       "      <th>1800</th>\n",
       "      <td>3280000</td>\n",
       "      <td>410000</td>\n",
       "      <td>2500000</td>\n",
       "      <td>2650</td>\n",
       "      <td>1570000</td>\n",
       "      <td>37000</td>\n",
       "      <td>534000</td>\n",
       "      <td>413000</td>\n",
       "      <td>351000</td>\n",
       "      <td>3210000</td>\n",
       "      <td>...</td>\n",
       "      <td>12300000</td>\n",
       "      <td>6800000</td>\n",
       "      <td>55000</td>\n",
       "      <td>1920000</td>\n",
       "      <td>27800</td>\n",
       "      <td>718000</td>\n",
       "      <td>6550000</td>\n",
       "      <td>2590000</td>\n",
       "      <td>747000</td>\n",
       "      <td>1090000</td>\n",
       "    </tr>\n",
       "    <tr>\n",
       "      <th>1801</th>\n",
       "      <td>3280000</td>\n",
       "      <td>412000</td>\n",
       "      <td>2510000</td>\n",
       "      <td>2650</td>\n",
       "      <td>1570000</td>\n",
       "      <td>37000</td>\n",
       "      <td>534000</td>\n",
       "      <td>413000</td>\n",
       "      <td>350000</td>\n",
       "      <td>3210000</td>\n",
       "      <td>...</td>\n",
       "      <td>12500000</td>\n",
       "      <td>6930000</td>\n",
       "      <td>55000</td>\n",
       "      <td>1920000</td>\n",
       "      <td>27800</td>\n",
       "      <td>718000</td>\n",
       "      <td>6550000</td>\n",
       "      <td>2590000</td>\n",
       "      <td>747000</td>\n",
       "      <td>1090000</td>\n",
       "    </tr>\n",
       "    <tr>\n",
       "      <th>1802</th>\n",
       "      <td>3280000</td>\n",
       "      <td>413000</td>\n",
       "      <td>2520000</td>\n",
       "      <td>2650</td>\n",
       "      <td>1570000</td>\n",
       "      <td>37000</td>\n",
       "      <td>534000</td>\n",
       "      <td>413000</td>\n",
       "      <td>349000</td>\n",
       "      <td>3220000</td>\n",
       "      <td>...</td>\n",
       "      <td>12600000</td>\n",
       "      <td>7070000</td>\n",
       "      <td>55000</td>\n",
       "      <td>1920000</td>\n",
       "      <td>27800</td>\n",
       "      <td>718000</td>\n",
       "      <td>6550000</td>\n",
       "      <td>2590000</td>\n",
       "      <td>747000</td>\n",
       "      <td>1090000</td>\n",
       "    </tr>\n",
       "    <tr>\n",
       "      <th>1803</th>\n",
       "      <td>3280000</td>\n",
       "      <td>414000</td>\n",
       "      <td>2530000</td>\n",
       "      <td>2650</td>\n",
       "      <td>1570000</td>\n",
       "      <td>37000</td>\n",
       "      <td>534000</td>\n",
       "      <td>413000</td>\n",
       "      <td>348000</td>\n",
       "      <td>3230000</td>\n",
       "      <td>...</td>\n",
       "      <td>12800000</td>\n",
       "      <td>7200000</td>\n",
       "      <td>55000</td>\n",
       "      <td>1920000</td>\n",
       "      <td>27800</td>\n",
       "      <td>718000</td>\n",
       "      <td>6550000</td>\n",
       "      <td>2590000</td>\n",
       "      <td>747000</td>\n",
       "      <td>1090000</td>\n",
       "    </tr>\n",
       "    <tr>\n",
       "      <th>1804</th>\n",
       "      <td>3280000</td>\n",
       "      <td>416000</td>\n",
       "      <td>2540000</td>\n",
       "      <td>2650</td>\n",
       "      <td>1570000</td>\n",
       "      <td>37000</td>\n",
       "      <td>534000</td>\n",
       "      <td>413000</td>\n",
       "      <td>348000</td>\n",
       "      <td>3240000</td>\n",
       "      <td>...</td>\n",
       "      <td>13000000</td>\n",
       "      <td>7340000</td>\n",
       "      <td>55000</td>\n",
       "      <td>1920000</td>\n",
       "      <td>27800</td>\n",
       "      <td>718000</td>\n",
       "      <td>6550000</td>\n",
       "      <td>2590000</td>\n",
       "      <td>747000</td>\n",
       "      <td>1090000</td>\n",
       "    </tr>\n",
       "  </tbody>\n",
       "</table>\n",
       "<p>5 rows × 195 columns</p>\n",
       "</div>"
      ],
      "text/plain": [
       "country  Afghanistan  Albania  Algeria  Andorra   Angola  Antigua and Barbuda  \\\n",
       "1800         3280000   410000  2500000     2650  1570000                37000   \n",
       "1801         3280000   412000  2510000     2650  1570000                37000   \n",
       "1802         3280000   413000  2520000     2650  1570000                37000   \n",
       "1803         3280000   414000  2530000     2650  1570000                37000   \n",
       "1804         3280000   416000  2540000     2650  1570000                37000   \n",
       "\n",
       "country  Argentina  Armenia  Australia  Austria  ...  United Kingdom  \\\n",
       "1800        534000   413000     351000  3210000  ...        12300000   \n",
       "1801        534000   413000     350000  3210000  ...        12500000   \n",
       "1802        534000   413000     349000  3220000  ...        12600000   \n",
       "1803        534000   413000     348000  3230000  ...        12800000   \n",
       "1804        534000   413000     348000  3240000  ...        13000000   \n",
       "\n",
       "country  United States  Uruguay  Uzbekistan  Vanuatu  Venezuela  Vietnam  \\\n",
       "1800           6800000    55000     1920000    27800     718000  6550000   \n",
       "1801           6930000    55000     1920000    27800     718000  6550000   \n",
       "1802           7070000    55000     1920000    27800     718000  6550000   \n",
       "1803           7200000    55000     1920000    27800     718000  6550000   \n",
       "1804           7340000    55000     1920000    27800     718000  6550000   \n",
       "\n",
       "country    Yemen  Zambia  Zimbabwe  \n",
       "1800     2590000  747000   1090000  \n",
       "1801     2590000  747000   1090000  \n",
       "1802     2590000  747000   1090000  \n",
       "1803     2590000  747000   1090000  \n",
       "1804     2590000  747000   1090000  \n",
       "\n",
       "[5 rows x 195 columns]"
      ]
     },
     "execution_count": 12,
     "metadata": {},
     "output_type": "execute_result"
    }
   ],
   "source": [
    "population.T.head() #transposes the table"
   ]
  },
  {
   "cell_type": "code",
   "execution_count": 13,
   "metadata": {},
   "outputs": [
    {
     "data": {
      "text/plain": [
       "<matplotlib.axes._subplots.AxesSubplot at 0x1e7208fae80>"
      ]
     },
     "execution_count": 13,
     "metadata": {},
     "output_type": "execute_result"
    },
    {
     "data": {
      "image/png": "[encoded data removed]",
      "text/plain": [
       "<Figure size 432x288 with 1 Axes>"
      ]
     },
     "metadata": {
      "needs_background": "light"
     },
     "output_type": "display_data"
    }
   ],
   "source": [
    "population.T[\"Portugal\"].plot()"
   ]
  },
  {
   "cell_type": "code",
   "execution_count": 14,
   "metadata": {},
   "outputs": [
    {
     "data": {
      "text/plain": [
       "<matplotlib.axes._subplots.AxesSubplot at 0x1e720c14670>"
      ]
     },
     "execution_count": 14,
     "metadata": {},
     "output_type": "execute_result"
    },
    {
     "data": {
      "image/png": "[encoded data removed]",
      "text/plain": [
       "<Figure size 432x288 with 1 Axes>"
      ]
     },
     "metadata": {
      "needs_background": "light"
     },
     "output_type": "display_data"
    }
   ],
   "source": [
    "population.T[\"Netherlands\"].plot()"
   ]
  },
  {
   "cell_type": "code",
   "execution_count": 15,
   "metadata": {},
   "outputs": [
    {
     "data": {
      "text/plain": [
       "<matplotlib.axes._subplots.AxesSubplot at 0x1e720cbd040>"
      ]
     },
     "execution_count": 15,
     "metadata": {},
     "output_type": "execute_result"
    },
    {
     "data": {
      "image/png": "[encoded data removed]",
      "text/plain": [
       "<Figure size 432x288 with 1 Axes>"
      ]
     },
     "metadata": {
      "needs_background": "light"
     },
     "output_type": "display_data"
    }
   ],
   "source": [
    "population.T[\"Japan\"].plot()"
   ]
  },
  {
   "cell_type": "code",
   "execution_count": 16,
   "metadata": {},
   "outputs": [
    {
     "data": {
      "text/plain": [
       "<matplotlib.axes._subplots.AxesSubplot at 0x1e720d12f70>"
      ]
     },
     "execution_count": 16,
     "metadata": {},
     "output_type": "execute_result"
    },
    {
     "data": {
      "image/png": "[encoded data removed]",
      "text/plain": [
       "<Figure size 432x288 with 1 Axes>"
      ]
     },
     "metadata": {
      "needs_background": "light"
     },
     "output_type": "display_data"
    }
   ],
   "source": [
    "population.T[\"Kenya\"].plot()"
   ]
  },
  {
   "cell_type": "code",
   "execution_count": 17,
   "metadata": {},
   "outputs": [
    {
     "name": "stdout",
     "output_type": "stream",
     "text": [
      "<class 'pandas.core.frame.DataFrame'>\n",
      "Index: 187 entries, Afghanistan to Zimbabwe\n",
      "Columns: 219 entries, 1800 to 2018\n",
      "dtypes: float64(219)\n",
      "memory usage: 321.4+ KB\n"
     ]
    }
   ],
   "source": [
    "life_expectancy.info()"
   ]
  },
  {
   "cell_type": "code",
   "execution_count": 18,
   "metadata": {},
   "outputs": [
    {
     "data": {
      "text/plain": [
       "Index(['Holy See', 'Liechtenstein', 'Monaco', 'Nauru', 'Palau', 'San Marino',\n",
       "       'St. Kitts and Nevis', 'Tuvalu'],\n",
       "      dtype='object', name='country')"
      ]
     },
     "execution_count": 18,
     "metadata": {},
     "output_type": "execute_result"
    }
   ],
   "source": [
    "life_expectancy.index ^ population.index"
   ]
  },
  {
   "cell_type": "code",
   "execution_count": 19,
   "metadata": {},
   "outputs": [
    {
     "data": {
      "text/plain": [
       "{'Holy See',\n",
       " 'Liechtenstein',\n",
       " 'Monaco',\n",
       " 'Nauru',\n",
       " 'Palau',\n",
       " 'San Marino',\n",
       " 'St. Kitts and Nevis',\n",
       " 'Tuvalu'}"
      ]
     },
     "execution_count": 19,
     "metadata": {},
     "output_type": "execute_result"
    }
   ],
   "source": [
    "set(population.index) - set(life_expectancy.index) "
   ]
  },
  {
   "cell_type": "code",
   "execution_count": 20,
   "metadata": {},
   "outputs": [
    {
     "data": {
      "text/plain": [
       "Index(['Monaco', 'Nauru', 'Palau', 'San Marino', 'St. Kitts and Nevis',\n",
       "       'Tuvalu'],\n",
       "      dtype='object', name='country')"
      ]
     },
     "execution_count": 20,
     "metadata": {},
     "output_type": "execute_result"
    }
   ],
   "source": [
    "income.index ^ life_expectancy.index"
   ]
  },
  {
   "cell_type": "code",
   "execution_count": null,
   "metadata": {},
   "outputs": [],
   "source": []
  },
  {
   "cell_type": "code",
   "execution_count": 21,
   "metadata": {},
   "outputs": [],
   "source": [
    "yemen = pd.concat([income.T[\"Yemen\"].rename(\"income\"),\n",
    "           life_expectancy.T[\"Yemen\"].rename(\"life_expectancy\")],\n",
    "          axis = 1)"
   ]
  },
  {
   "cell_type": "code",
   "execution_count": 22,
   "metadata": {},
   "outputs": [],
   "source": [
    "from plotnine import ggplot, geom_point, aes"
   ]
  },
  {
   "cell_type": "code",
   "execution_count": 23,
   "metadata": {},
   "outputs": [
    {
     "name": "stderr",
     "output_type": "stream",
     "text": [
      "C:\\Users\\snooij\\AppData\\Local\\Continuum\\anaconda3\\envs\\ROR_workshop\\lib\\site-packages\\plotnine\\layer.py:452: PlotnineWarning: geom_point : Removed 22 rows containing missing values.\n",
      "  self.data = self.geom.handle_na(self.data)\n"
     ]
    },
    {
     "data": {
      "image/png": "[encoded data removed]",
      "text/plain": [
       "<Figure size 640x480 with 1 Axes>"
      ]
     },
     "metadata": {},
     "output_type": "display_data"
    },
    {
     "data": {
      "text/plain": [
       "<ggplot: (130765517288)>"
      ]
     },
     "execution_count": 23,
     "metadata": {},
     "output_type": "execute_result"
    }
   ],
   "source": [
    "ggplot(yemen, aes(\"income\", \"life_expectancy\")) + geom_point()"
   ]
  },
  {
   "cell_type": "code",
   "execution_count": 24,
   "metadata": {},
   "outputs": [],
   "source": [
    "from matplotlib import pyplot as plt\n",
    "import numpy as np"
   ]
  },
  {
   "cell_type": "code",
   "execution_count": 25,
   "metadata": {},
   "outputs": [
    {
     "data": {
      "image/png": "[encoded data removed]",
      "text/plain": [
       "<Figure size 432x288 with 1 Axes>"
      ]
     },
     "metadata": {
      "needs_background": "light"
     },
     "output_type": "display_data"
    }
   ],
   "source": [
    "fig, ax = plt.subplots()"
   ]
  },
  {
   "cell_type": "code",
   "execution_count": 26,
   "metadata": {},
   "outputs": [
    {
     "data": {
      "image/png": "[encoded data removed]",
      "text/plain": [
       "<Figure size 432x288 with 4 Axes>"
      ]
     },
     "metadata": {
      "needs_background": "light"
     },
     "output_type": "display_data"
    }
   ],
   "source": [
    "fig2, ax2 = plt.subplots(2, 2)"
   ]
  },
  {
   "cell_type": "code",
   "execution_count": 27,
   "metadata": {},
   "outputs": [],
   "source": [
    "example_df = pd.concat([\n",
    "    population[\"1900\"].rename(\"population\"),\n",
    "    life_expectancy[\"1900\"].rename(\"life_expectancy\"),\n",
    "    income[\"1900\"].rename(\"income\")\n",
    "], axis = 1, join = \"inner\")"
   ]
  },
  {
   "cell_type": "code",
   "execution_count": 28,
   "metadata": {},
   "outputs": [
    {
     "data": {
      "image/png": "[encoded data removed]",
      "text/plain": [
       "<Figure size 432x288 with 1 Axes>"
      ]
     },
     "metadata": {
      "needs_background": "light"
     },
     "output_type": "display_data"
    }
   ],
   "source": [
    "fig, ax = plt.subplots()\n",
    "ax.scatter(example_df[\"income\"], example_df[\"life_expectancy\"], s=np.sqrt(example_df[\"population\"])/50, alpha=0.3)\n",
    "ax.set_xlabel(\"annual income per capita, inflation corrected in USD\")\n",
    "ax.set_ylabel(\"life expectancy\")\n",
    "fig.savefig(\"bubbleplot.svg\")\n",
    "plt.show()"
   ]
  },
  {
   "cell_type": "markdown",
   "metadata": {},
   "source": [
    "![My first bubble plot](bubbleplot.svg)\n",
    "**Figure 1. My first bubble plot.** Saved as svg image."
   ]
  },
  {
   "cell_type": "code",
   "execution_count": 37,
   "metadata": {},
   "outputs": [],
   "source": [
    "def gapminder_bubble(year: int):\n",
    "    year_str = str(year)\n",
    "    x = pd.concat([\n",
    "        population[year_str].rename(\"population\"),\n",
    "        life_expectancy[year_str].rename(\"life_expectancy\"),\n",
    "        income[year_str].rename(\"income\")], axis = 1, join = \"inner\")\n",
    "    \n",
    "    fig, ax = plt.subplots(figsize=(12, 8))\n",
    "    ax.scatter(x[\"income\"], x[\"life_expectancy\"], s=np.sqrt(x[\"population\"])/50, alpha=0.3)\n",
    "    ax.set_xlabel(\"annual income per capita, inflation corrected in USD\")\n",
    "    ax.set_ylabel(\"life expectancy\")\n",
    "    ax.set_xlim(300, 1e5)\n",
    "    ax.set_ylim(0, 90)\n",
    "    ax.set_xscale(\"log\")\n",
    "    return fig, ax\n",
    "#We are going to make a function for plotting different years"
   ]
  },
  {
   "cell_type": "code",
   "execution_count": 38,
   "metadata": {},
   "outputs": [
    {
     "data": {
      "image/png": "[encoded data removed]",
      "text/plain": [
       "<Figure size 864x576 with 1 Axes>"
      ]
     },
     "metadata": {
      "needs_background": "light"
     },
     "output_type": "display_data"
    }
   ],
   "source": [
    "fig, ax = gapminder_bubble(1980)"
   ]
  },
  {
   "cell_type": "markdown",
   "metadata": {},
   "source": [
    "Now you could lookup ipywidgets to make interactive figures with a slider for years.\n",
    "\n",
    "Look at the [ipywidgets documentation](https://ipywidgets.readthedocs.io/en/stable/user_install.html) for installation instructions. (It involves installing `ipywidgets` and `nodejs` with conda, and then running another command in the shell to install the extension.)"
   ]
  },
  {
   "cell_type": "code",
   "execution_count": 31,
   "metadata": {},
   "outputs": [],
   "source": [
    "from ipywidgets import interact"
   ]
  },
  {
   "cell_type": "code",
   "execution_count": 39,
   "metadata": {},
   "outputs": [
    {
     "data": {
      "application/vnd.jupyter.widget-view+json": {
       "model_id": "4e14078036934f648a639cba6a9581c6",
       "version_major": 2,
       "version_minor": 0
      },
      "text/plain": [
       "interactive(children=(IntSlider(value=1909, description='year', max=2018, min=1800), Output()), _dom_classes=(…"
      ]
     },
     "metadata": {},
     "output_type": "display_data"
    },
    {
     "data": {
      "text/plain": [
       "<function __main__.gapminder_bubble(year: int)>"
      ]
     },
     "execution_count": 39,
     "metadata": {},
     "output_type": "execute_result"
    }
   ],
   "source": [
    "interact(gapminder_bubble, year=(1800, 2018))"
   ]
  }
 ],
 "metadata": {
  "kernelspec": {
   "display_name": "Python 3",
   "language": "python",
   "name": "python3"
  },
  "language_info": {
   "codemirror_mode": {
    "name": "ipython",
    "version": 3
   },
   "file_extension": ".py",
   "mimetype": "text/x-python",
   "name": "python",
   "nbconvert_exporter": "python",
   "pygments_lexer": "ipython3",
   "version": "3.8.1"
  }
 },
 "nbformat": 4,
 "nbformat_minor": 4
}
